{
  "nbformat": 4,
  "nbformat_minor": 0,
  "metadata": {
    "colab": {
      "name": "Untitled2.ipynb",
      "provenance": [],
      "authorship_tag": "ABX9TyM+5J+1n4/EwIILHSn1VfoM",
      "include_colab_link": true
    },
    "kernelspec": {
      "name": "python3",
      "display_name": "Python 3"
    },
    "language_info": {
      "name": "python"
    }
  },
  "cells": [
    {
      "cell_type": "markdown",
      "metadata": {
        "id": "view-in-github",
        "colab_type": "text"
      },
      "source": [
        "<a href=\"https://colab.research.google.com/github/4100E111/Work/blob/main/Untitled2.ipynb\" target=\"_parent\"><img src=\"https://colab.research.google.com/assets/colab-badge.svg\" alt=\"Open In Colab\"/></a>"
      ]
    },
    {
      "cell_type": "code",
      "metadata": {
        "colab": {
          "base_uri": "https://localhost:8080/"
        },
        "id": "2lGzepmMu8uP",
        "outputId": "b4bd44c7-df1d-4395-99e9-4cd9a32c50d8"
      },
      "source": [
        "!pip install pycrypto"
      ],
      "execution_count": 1,
      "outputs": [
        {
          "output_type": "stream",
          "name": "stdout",
          "text": [
            "Collecting pycrypto\n",
            "  Downloading pycrypto-2.6.1.tar.gz (446 kB)\n",
            "\u001b[?25l\r\u001b[K     |▊                               | 10 kB 16.8 MB/s eta 0:00:01\r\u001b[K     |█▌                              | 20 kB 17.8 MB/s eta 0:00:01\r\u001b[K     |██▏                             | 30 kB 11.0 MB/s eta 0:00:01\r\u001b[K     |███                             | 40 kB 9.7 MB/s eta 0:00:01\r\u001b[K     |███▊                            | 51 kB 8.1 MB/s eta 0:00:01\r\u001b[K     |████▍                           | 61 kB 8.4 MB/s eta 0:00:01\r\u001b[K     |█████▏                          | 71 kB 7.6 MB/s eta 0:00:01\r\u001b[K     |█████▉                          | 81 kB 8.5 MB/s eta 0:00:01\r\u001b[K     |██████▋                         | 92 kB 7.8 MB/s eta 0:00:01\r\u001b[K     |███████▍                        | 102 kB 7.4 MB/s eta 0:00:01\r\u001b[K     |████████                        | 112 kB 7.4 MB/s eta 0:00:01\r\u001b[K     |████████▉                       | 122 kB 7.4 MB/s eta 0:00:01\r\u001b[K     |█████████▌                      | 133 kB 7.4 MB/s eta 0:00:01\r\u001b[K     |██████████▎                     | 143 kB 7.4 MB/s eta 0:00:01\r\u001b[K     |███████████                     | 153 kB 7.4 MB/s eta 0:00:01\r\u001b[K     |███████████▊                    | 163 kB 7.4 MB/s eta 0:00:01\r\u001b[K     |████████████▌                   | 174 kB 7.4 MB/s eta 0:00:01\r\u001b[K     |█████████████▏                  | 184 kB 7.4 MB/s eta 0:00:01\r\u001b[K     |██████████████                  | 194 kB 7.4 MB/s eta 0:00:01\r\u001b[K     |██████████████▊                 | 204 kB 7.4 MB/s eta 0:00:01\r\u001b[K     |███████████████▍                | 215 kB 7.4 MB/s eta 0:00:01\r\u001b[K     |████████████████▏               | 225 kB 7.4 MB/s eta 0:00:01\r\u001b[K     |█████████████████               | 235 kB 7.4 MB/s eta 0:00:01\r\u001b[K     |█████████████████▋              | 245 kB 7.4 MB/s eta 0:00:01\r\u001b[K     |██████████████████▍             | 256 kB 7.4 MB/s eta 0:00:01\r\u001b[K     |███████████████████             | 266 kB 7.4 MB/s eta 0:00:01\r\u001b[K     |███████████████████▉            | 276 kB 7.4 MB/s eta 0:00:01\r\u001b[K     |████████████████████▋           | 286 kB 7.4 MB/s eta 0:00:01\r\u001b[K     |█████████████████████▎          | 296 kB 7.4 MB/s eta 0:00:01\r\u001b[K     |██████████████████████          | 307 kB 7.4 MB/s eta 0:00:01\r\u001b[K     |██████████████████████▊         | 317 kB 7.4 MB/s eta 0:00:01\r\u001b[K     |███████████████████████▌        | 327 kB 7.4 MB/s eta 0:00:01\r\u001b[K     |████████████████████████▎       | 337 kB 7.4 MB/s eta 0:00:01\r\u001b[K     |█████████████████████████       | 348 kB 7.4 MB/s eta 0:00:01\r\u001b[K     |█████████████████████████▊      | 358 kB 7.4 MB/s eta 0:00:01\r\u001b[K     |██████████████████████████▍     | 368 kB 7.4 MB/s eta 0:00:01\r\u001b[K     |███████████████████████████▏    | 378 kB 7.4 MB/s eta 0:00:01\r\u001b[K     |████████████████████████████    | 389 kB 7.4 MB/s eta 0:00:01\r\u001b[K     |████████████████████████████▋   | 399 kB 7.4 MB/s eta 0:00:01\r\u001b[K     |█████████████████████████████▍  | 409 kB 7.4 MB/s eta 0:00:01\r\u001b[K     |██████████████████████████████  | 419 kB 7.4 MB/s eta 0:00:01\r\u001b[K     |██████████████████████████████▉ | 430 kB 7.4 MB/s eta 0:00:01\r\u001b[K     |███████████████████████████████▋| 440 kB 7.4 MB/s eta 0:00:01\r\u001b[K     |████████████████████████████████| 446 kB 7.4 MB/s \n",
            "\u001b[?25hBuilding wheels for collected packages: pycrypto\n",
            "  Building wheel for pycrypto (setup.py) ... \u001b[?25l\u001b[?25hdone\n",
            "  Created wheel for pycrypto: filename=pycrypto-2.6.1-cp37-cp37m-linux_x86_64.whl size=499932 sha256=542103c78b99454e81ab97544dbf397a6a4db608e2a376c86a456e656491061f\n",
            "  Stored in directory: /root/.cache/pip/wheels/cf/85/ba/bbd7c96add459de7598fb424e5ff2309baf2095c844ac0f191\n",
            "Successfully built pycrypto\n",
            "Installing collected packages: pycrypto\n",
            "Successfully installed pycrypto-2.6.1\n"
          ]
        }
      ]
    },
    {
      "cell_type": "code",
      "metadata": {
        "colab": {
          "base_uri": "https://localhost:8080/"
        },
        "id": "X8WBe24TwtXB",
        "outputId": "8fa1a7f0-09f1-47a3-abbb-13c1b0067ca9"
      },
      "source": [
        "from Crypto.Cipher import AES\n",
        "\n",
        "obj = AES.new('This is a key123', AES.MODE_CBC, 'This is an IV456')\n",
        "\n",
        "message = \"flag(HappyCrypt)\"\n",
        "\n",
        "ciphertext = obj.encrypt(message)\n",
        "ciphertext"
      ],
      "execution_count": 2,
      "outputs": [
        {
          "output_type": "execute_result",
          "data": {
            "text/plain": [
              "b'J\\xae\\xd1J\\xbdS\\x8d\\x99\\xaf\\xc3N\\xba\\xde\\xeb>['"
            ]
          },
          "metadata": {},
          "execution_count": 2
        }
      ]
    },
    {
      "cell_type": "code",
      "metadata": {
        "colab": {
          "base_uri": "https://localhost:8080/"
        },
        "id": "uIbYP2ITxh27",
        "outputId": "9fd9e43a-5e2c-4a99-e526-c1559ef4efb2"
      },
      "source": [
        "obj2 = AES.new('This is a key123', AES.MODE_CBC, 'This is an IV456')\n",
        "\n",
        "obj2.decrypt(ciphertext)"
      ],
      "execution_count": 3,
      "outputs": [
        {
          "output_type": "execute_result",
          "data": {
            "text/plain": [
              "b'flag(HappyCrypt)'"
            ]
          },
          "metadata": {},
          "execution_count": 3
        }
      ]
    },
    {
      "cell_type": "code",
      "metadata": {
        "colab": {
          "base_uri": "https://localhost:8080/"
        },
        "id": "QT6uH3Zm1rmS",
        "outputId": "67fcb1e1-83a8-4d79-9929-584116ca0458"
      },
      "source": [
        "from Crypto.Util.number import GCD\n",
        "\n",
        "GCD(12,18)"
      ],
      "execution_count": 4,
      "outputs": [
        {
          "output_type": "execute_result",
          "data": {
            "text/plain": [
              "6"
            ]
          },
          "metadata": {},
          "execution_count": 4
        }
      ]
    },
    {
      "cell_type": "code",
      "metadata": {
        "colab": {
          "base_uri": "https://localhost:8080/"
        },
        "id": "E9pfjq1k8AVh",
        "outputId": "4f6955bf-2e1c-40fd-d731-1003646db9dc"
      },
      "source": [
        "!pip install libnum"
      ],
      "execution_count": 5,
      "outputs": [
        {
          "output_type": "stream",
          "name": "stdout",
          "text": [
            "Collecting libnum\n",
            "  Downloading libnum-1.7.1-py3-none-any.whl (14 kB)\n",
            "Installing collected packages: libnum\n",
            "Successfully installed libnum-1.7.1\n"
          ]
        }
      ]
    },
    {
      "cell_type": "code",
      "metadata": {
        "colab": {
          "base_uri": "https://localhost:8080/"
        },
        "id": "SpjqgQ6Z8u7q",
        "outputId": "e3ec95ba-efa7-4c37-d2eb-54eefc00edcc"
      },
      "source": [
        "import libnum\n",
        "\n",
        "s=\"flag{happyCryptoDay}\"\n",
        "number = libnum.s2n(s)\n",
        "number"
      ],
      "execution_count": 6,
      "outputs": [
        {
          "output_type": "execute_result",
          "data": {
            "text/plain": [
              "584734024210329131028579942239246539813829048701"
            ]
          },
          "metadata": {},
          "execution_count": 6
        }
      ]
    },
    {
      "cell_type": "code",
      "metadata": {
        "colab": {
          "base_uri": "https://localhost:8080/"
        },
        "id": "nZ9yLhmM9hGt",
        "outputId": "36f86b76-b016-47a3-ccd3-a9799201ebe7"
      },
      "source": [
        "print(libnum.n2s(number))"
      ],
      "execution_count": 7,
      "outputs": [
        {
          "output_type": "stream",
          "name": "stdout",
          "text": [
            "b'flag{happyCryptoDay}'\n"
          ]
        }
      ]
    },
    {
      "cell_type": "code",
      "metadata": {
        "colab": {
          "base_uri": "https://localhost:8080/"
        },
        "id": "hhg-u2TUBK1i",
        "outputId": "4d4adcf5-0b50-4a59-e6ae-693fb0e1118c"
      },
      "source": [
        "!apt install libmpc-dev"
      ],
      "execution_count": 9,
      "outputs": [
        {
          "output_type": "stream",
          "name": "stdout",
          "text": [
            "Reading package lists... Done\n",
            "Building dependency tree       \n",
            "Reading state information... Done\n",
            "The following additional packages will be installed:\n",
            "  libgmp-dev libgmpxx4ldbl libmpfr-dev\n",
            "Suggested packages:\n",
            "  gmp-doc libgmp10-doc libmpfr-doc\n",
            "The following NEW packages will be installed:\n",
            "  libgmp-dev libgmpxx4ldbl libmpc-dev libmpfr-dev\n",
            "0 upgraded, 4 newly installed, 0 to remove and 37 not upgraded.\n",
            "Need to get 625 kB of archives.\n",
            "After this operation, 3,178 kB of additional disk space will be used.\n",
            "Get:1 http://archive.ubuntu.com/ubuntu bionic/main amd64 libgmpxx4ldbl amd64 2:6.1.2+dfsg-2 [8,964 B]\n",
            "Get:2 http://archive.ubuntu.com/ubuntu bionic/main amd64 libgmp-dev amd64 2:6.1.2+dfsg-2 [316 kB]\n",
            "Get:3 http://archive.ubuntu.com/ubuntu bionic/main amd64 libmpfr-dev amd64 4.0.1-1 [249 kB]\n",
            "Get:4 http://archive.ubuntu.com/ubuntu bionic/main amd64 libmpc-dev amd64 1.1.0-1 [50.5 kB]\n",
            "Fetched 625 kB in 1s (486 kB/s)\n",
            "Selecting previously unselected package libgmpxx4ldbl:amd64.\n",
            "(Reading database ... 155013 files and directories currently installed.)\n",
            "Preparing to unpack .../libgmpxx4ldbl_2%3a6.1.2+dfsg-2_amd64.deb ...\n",
            "Unpacking libgmpxx4ldbl:amd64 (2:6.1.2+dfsg-2) ...\n",
            "Selecting previously unselected package libgmp-dev:amd64.\n",
            "Preparing to unpack .../libgmp-dev_2%3a6.1.2+dfsg-2_amd64.deb ...\n",
            "Unpacking libgmp-dev:amd64 (2:6.1.2+dfsg-2) ...\n",
            "Selecting previously unselected package libmpfr-dev:amd64.\n",
            "Preparing to unpack .../libmpfr-dev_4.0.1-1_amd64.deb ...\n",
            "Unpacking libmpfr-dev:amd64 (4.0.1-1) ...\n",
            "Selecting previously unselected package libmpc-dev:amd64.\n",
            "Preparing to unpack .../libmpc-dev_1.1.0-1_amd64.deb ...\n",
            "Unpacking libmpc-dev:amd64 (1.1.0-1) ...\n",
            "Setting up libgmpxx4ldbl:amd64 (2:6.1.2+dfsg-2) ...\n",
            "Setting up libgmp-dev:amd64 (2:6.1.2+dfsg-2) ...\n",
            "Setting up libmpfr-dev:amd64 (4.0.1-1) ...\n",
            "Setting up libmpc-dev:amd64 (1.1.0-1) ...\n",
            "Processing triggers for libc-bin (2.27-3ubuntu1.3) ...\n",
            "/sbin/ldconfig.real: /usr/local/lib/python3.7/dist-packages/ideep4py/lib/libmkldnn.so.0 is not a symbolic link\n",
            "\n"
          ]
        }
      ]
    },
    {
      "cell_type": "code",
      "metadata": {
        "colab": {
          "base_uri": "https://localhost:8080/"
        },
        "id": "wmCLcuClDkKV",
        "outputId": "aeb53dc4-b169-473e-ee50-9984900bfe51"
      },
      "source": [
        "!pip3 install-user gmpy2==2.1.0a2"
      ],
      "execution_count": 10,
      "outputs": [
        {
          "output_type": "stream",
          "name": "stdout",
          "text": [
            "ERROR: unknown command \"install-user\" - maybe you meant \"install\"\n"
          ]
        }
      ]
    }
  ]
}